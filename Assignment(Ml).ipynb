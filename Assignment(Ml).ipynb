{
 "cells": [
  {
   "cell_type": "markdown",
   "metadata": {},
   "source": [
    "Assignmet 1(task-1(q2))"
   ]
  },
  {
   "cell_type": "code",
   "execution_count": 17,
   "metadata": {},
   "outputs": [
    {
     "name": "stdout",
     "output_type": "stream",
     "text": [
      "2002,2009,2016,2023,2037,2044,2051,2058,2072,2079,2086,2093,2107,2114,2121,2128,2142,2149,2156,2163,2177,2184,2191,2198,2212,2219,2226,2233,2247,2254,2261,2268,2282,2289,2296,2303,2317,2324,2331,2338,2352,2359,2366,2373,2387,2394,2401,2408,2422,2429,2436,2443,2457,2464,2471,2478,2492,2499,2506,2513,2527,2534,2541,2548,2562,2569,2576,2583,2597,2604,2611,2618,2632,2639,2646,2653,2667,2674,2681,2688,2702,2709,2716,2723,2737,2744,2751,2758,2772,2779,2786,2793,2807,2814,2821,2828,2842,2849,2856,2863,2877,2884,2891,2898,2912,2919,2926,2933,2947,2954,2961,2968,2982,2989,2996,3003,3017,3024,3031,3038,3052,3059,3066,3073,3087,3094,3101,3108,3122,3129,3136,3143,3157,3164,3171,3178,3192,3199\n"
     ]
    }
   ],
   "source": [
    "List =[]\n",
    "for i in range(2000, 3200):\n",
    "    if (i%7 ==0) and (i%5!=0) :\n",
    "        List.append(str(i))\n",
    "print(','.join(List))"
   ]
  },
  {
   "cell_type": "markdown",
   "metadata": {},
   "source": [
    "task1-(q2)"
   ]
  },
  {
   "cell_type": "code",
   "execution_count": 19,
   "metadata": {},
   "outputs": [
    {
     "name": "stdout",
     "output_type": "stream",
     "text": [
      "Input first Name : subha\n",
      "Input Last Name : dipta\n",
      "dipta subha\n"
     ]
    }
   ],
   "source": [
    "first_name = input(\"Input first Name : \")\n",
    "last_name = input(\"Input Last Name : \")\n",
    "print (last_name + \" \" + first_name)"
   ]
  },
  {
   "cell_type": "markdown",
   "metadata": {},
   "source": [
    "task1-(q3)"
   ]
  },
  {
   "cell_type": "code",
   "execution_count": 32,
   "metadata": {},
   "outputs": [
    {
     "name": "stdout",
     "output_type": "stream",
     "text": [
      "diameter of sphere: 12\n",
      "Volume is:  905.1428571428571\n"
     ]
    }
   ],
   "source": [
    "dia = float(input('diameter of sphere: '))\n",
    "rad = .5 * dia\n",
    "pi= 22/7\n",
    "vol = (4/3) * (pi * rad ** 3)\n",
    "print(\"Volume is: \", vol)"
   ]
  },
  {
   "cell_type": "markdown",
   "metadata": {},
   "source": [
    "task2(q1)"
   ]
  },
  {
   "cell_type": "code",
   "execution_count": 36,
   "metadata": {},
   "outputs": [
    {
     "name": "stdout",
     "output_type": "stream",
     "text": [
      "Enter comma separated numbers: 12,13,14\n"
     ]
    },
    {
     "data": {
      "text/plain": [
       "list"
      ]
     },
     "execution_count": 36,
     "metadata": {},
     "output_type": "execute_result"
    }
   ],
   "source": [
    "number =input(\"Enter comma separated numbers: \").split(',')\n",
    "number\n",
    "type(number)"
   ]
  },
  {
   "cell_type": "markdown",
   "metadata": {},
   "source": [
    "task2(q2)"
   ]
  },
  {
   "cell_type": "code",
   "execution_count": 1,
   "metadata": {},
   "outputs": [
    {
     "name": "stdout",
     "output_type": "stream",
     "text": [
      "Enter max star for single line5\n",
      "* \n",
      "* * \n",
      "* * * \n",
      "* * * * \n",
      "* * * * * \n",
      "* * * * \n",
      "* * * \n",
      "* * \n",
      "* \n",
      "\n"
     ]
    }
   ],
   "source": [
    "no_rows = input(\"Enter max star for single line\")\n",
    "no_rows = int (no_rows)\n",
    "for i in range (0, no_rows):\n",
    "    for j in range(0, i + 1):\n",
    "        print(\"*\", end=' ')\n",
    "    print(\"\\r\")\n",
    "\n",
    "for i in range (no_rows, 0, -1):\n",
    "    for j in range(0, i -1):\n",
    "        print(\"*\", end=' ')\n",
    "    print(\"\\r\")"
   ]
  },
  {
   "cell_type": "markdown",
   "metadata": {},
   "source": [
    "task2(q3)"
   ]
  },
  {
   "cell_type": "code",
   "execution_count": 4,
   "metadata": {},
   "outputs": [
    {
     "name": "stdout",
     "output_type": "stream",
     "text": [
      "Input a word to reverse: AWERty\n",
      "ytREWA\n"
     ]
    }
   ],
   "source": [
    "#slice method for less exceute time\n",
    "word = input(\"Input a word to reverse: \")\n",
    "print (word[::-1])"
   ]
  },
  {
   "cell_type": "markdown",
   "metadata": {},
   "source": [
    "rask2(q4)"
   ]
  },
  {
   "cell_type": "code",
   "execution_count": null,
   "metadata": {},
   "outputs": [],
   "source": [
    "Story = \"WE,THE PEOPLE OF INDIA,{}having solemnly resolved to constitute India into a SOVEREIGN,{}SOCIALIST, SECULAR, DEMOCRATIC REPUBLIC{}and to secure to all its citizens{}\"\n",
    "print(Story.format('\\n\\t','!\\n\\t\\t','\\n\\t\\t',''))"
   ]
  },
  {
   "cell_type": "markdown",
   "metadata": {},
   "source": [
    "ASSIgnment 2"
   ]
  },
  {
   "cell_type": "markdown",
   "metadata": {},
   "source": [
    "Question 1,2"
   ]
  },
  {
   "cell_type": "code",
   "execution_count": 23,
   "metadata": {},
   "outputs": [
    {
     "name": "stdout",
     "output_type": "stream",
     "text": [
      "Mul on list [3,4,5,6] using own reduce function is 360\n",
      "Filter only positive Integers on list [0,1,-2,3,4,5] using own filter function is[1, 3, 4, 5]\n"
     ]
    }
   ],
   "source": [
    "#own fucntion\n",
    "def myreduce(func, seq):\n",
    "\n",
    "  result = seq[0]\n",
    " # iterate  \n",
    "  for item in seq[1:]:\n",
    "   result = func(result, item)\n",
    "\n",
    "  return result\n",
    "\n",
    "\n",
    "#ownb function\n",
    "def myfilter(func, seq):\n",
    "\n",
    " result = []\n",
    " # iterate\n",
    " for item in seq:\n",
    "  if func(item):\n",
    "   result.append(item)\n",
    "\n",
    " return result\n",
    "\n",
    "\n",
    "# test function\n",
    "def mul(x,y): return x * y\n",
    "\n",
    "# test function\n",
    "def ispositive(x):\n",
    " if (x <= 0): \n",
    "  return False \n",
    " else: \n",
    "  return True\n",
    "\n",
    "\n",
    "\n",
    "print (\"Mul on list [3,4,5,6] using own reduce function is \"   + str(myreduce(mul, [3,4,5,6])) )\n",
    "print (\"Filter only positive Integers on list [0,1,-2,3,4,5] using own filter function is\"  + str(myfilter(ispositive, [0,1,-2,3,4,5])))"
   ]
  },
  {
   "cell_type": "markdown",
   "metadata": {},
   "source": [
    "assignment 2(Q2)"
   ]
  },
  {
   "cell_type": "code",
   "execution_count": 26,
   "metadata": {},
   "outputs": [
    {
     "name": "stdout",
     "output_type": "stream",
     "text": [
      "['A', 'C', 'A', 'D', 'G', 'I', 'L', 'D']\n",
      "['x', 'xx', 'xxx', 'xxxx', 'y', 'yy', 'yyy', 'yyyy', 'z', 'zz', 'zzz', 'zzzz']\n",
      "['x', 'y', 'z', 'xx', 'yy', 'zz', 'xxx', 'yyy', 'zzz', 'xxxx', 'yyyy', 'zzzz']\n",
      "[[2], [3], [4], [3], [4], [5], [4], [5], [6]]\n",
      "[[2, 3, 4, 5], [3, 4, 5, 6], [4, 5, 6, 7], [5, 6, 7, 8]]\n",
      "[(1, 1), (2, 1), (3, 1), (1, 2), (2, 2), (3, 2), (1, 3), (2, 3), (3, 3)]\n"
     ]
    }
   ],
   "source": [
    "word = \"ACADGILD\"\n",
    "alphabet_list = [ alphabet for alphabet in word ]\n",
    "print (str(alphabet_list))\n",
    "\n",
    "########################################################################\n",
    "input_list = ['x','y','z']\n",
    "output = [ item*num for item in input_list for num in range(1,5)  ]\n",
    "print(str(output))\n",
    "\n",
    "#################################################################################\n",
    "input_list = ['x','y','z']\n",
    "output = [ item*num for num in range(1,5) for item in input_list  ]\n",
    "print(str(output))\n",
    "\n",
    "#################################################################################\n",
    "input_list = [2,3,4]\n",
    "output = [ [item+num] for item in input_list for num in range(0,3)]\n",
    "print(str(output))\n",
    "\n",
    "#################################################################################\n",
    "input_list = [2,3,4,5]\n",
    "output = [ [item+num for item in input_list] for num in range(0,4)  ]\n",
    "print(str(output))\n",
    "\n",
    "#################################################################################\n",
    "input_list=[1,2,3]\n",
    "output = [ (b,a) for a in input_list for b in input_list]\n",
    "print(str(output))\n"
   ]
  },
  {
   "cell_type": "markdown",
   "metadata": {},
   "source": [
    "q3"
   ]
  },
  {
   "cell_type": "code",
   "execution_count": 27,
   "metadata": {},
   "outputs": [
    {
     "name": "stdout",
     "output_type": "stream",
     "text": [
      "swainsubha\n"
     ]
    }
   ],
   "source": [
    "def longest_word(words_list):  \n",
    "    word_len = []  \n",
    "    for n in words_list:  \n",
    "        word_len.append((len(n), n))  \n",
    "    word_len.sort()  \n",
    "    return word_len[-1][1]  \n",
    "  \n",
    "print(longest_word([\"subh\", \"subhadip\", \"swa\", \"swainsubha\"]))  "
   ]
  },
  {
   "cell_type": "markdown",
   "metadata": {},
   "source": [
    "q4"
   ]
  },
  {
   "cell_type": "code",
   "execution_count": 30,
   "metadata": {},
   "outputs": [
    {
     "name": "stdout",
     "output_type": "stream",
     "text": [
      "Enter the value of x = 2\n",
      "Enter the value of y = 3\n",
      "Enter the value of z = 4\n",
      "area : 2.9047375096555625\n"
     ]
    }
   ],
   "source": [
    "class Triangle:\n",
    " \n",
    "    def __init__(self,x,y,z):\n",
    "        self.x = float(x)\n",
    "        self.y = float(y)\n",
    "        self.z = float(z)\n",
    " \n",
    "    def area(self):\n",
    "        s=(self.x + self.y + self.z)/2\n",
    "        return((s*(s-self.x)*(s-self.y)*(s-self.z))**0.5)\n",
    "x=input(\"Enter the value of x = \")\n",
    "y=input(\"Enter the value of y = \")\n",
    "z=input(\"Enter the value of z = \")\n",
    "T_area = Triangle(x, y, z)\n",
    "print(\"area : {}\".format(T_area.area()))"
   ]
  },
  {
   "cell_type": "markdown",
   "metadata": {},
   "source": [
    "q5"
   ]
  },
  {
   "cell_type": "code",
   "execution_count": 43,
   "metadata": {},
   "outputs": [
    {
     "name": "stdout",
     "output_type": "stream",
     "text": [
      "[4, 2, 1, 9, 3]\n"
     ]
    }
   ],
   "source": [
    "word_list = [\"subh\", \"is\", \"a\", \"goooooodd\", \"boy\"]\n",
    "\n",
    "def wordlength(word_list):\n",
    " return list(map(lambda x: len(x), word_list))\n",
    "\n",
    "print (str(wordlength(word_list)))"
   ]
  },
  {
   "cell_type": "markdown",
   "metadata": {},
   "source": [
    "q6"
   ]
  },
  {
   "cell_type": "code",
   "execution_count": 49,
   "metadata": {},
   "outputs": [
    {
     "name": "stdout",
     "output_type": "stream",
     "text": [
      "Enter character: r\n",
      "Flase\n"
     ]
    }
   ],
   "source": [
    "def vowel_chk(char):\n",
    " if(char == 'a' or char == 'e' or char == 'i' or char == 'o' or char == 'u'):\n",
    "  return True\n",
    " else:\n",
    "  return False\n",
    "\n",
    "char = input(\"Enter character: \");\n",
    "\n",
    "if (vowel_chk(char)):\n",
    " print(\"True\");\n",
    "else:\n",
    " print(\"Flase\"); "
   ]
  },
  {
   "cell_type": "code",
   "execution_count": 48,
   "metadata": {},
   "outputs": [
    {
     "name": "stdout",
     "output_type": "stream",
     "text": [
      "Enter character: w\n"
     ]
    }
   ],
   "source": []
  }
 ],
 "metadata": {
  "kernelspec": {
   "display_name": "Python 3",
   "language": "python",
   "name": "python3"
  },
  "language_info": {
   "codemirror_mode": {
    "name": "ipython",
    "version": 3
   },
   "file_extension": ".py",
   "mimetype": "text/x-python",
   "name": "python",
   "nbconvert_exporter": "python",
   "pygments_lexer": "ipython3",
   "version": "3.7.1"
  }
 },
 "nbformat": 4,
 "nbformat_minor": 2
}
